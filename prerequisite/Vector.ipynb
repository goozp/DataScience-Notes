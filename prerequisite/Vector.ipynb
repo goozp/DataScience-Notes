{
 "cells": [
  {
   "cell_type": "markdown",
   "metadata": {},
   "source": [
    "# 向量（Vector）和行列式（Determinant）"
   ]
  },
  {
   "cell_type": "markdown",
   "metadata": {},
   "source": [
    "## 向量的加减和数乘"
   ]
  },
  {
   "cell_type": "code",
   "execution_count": 1,
   "metadata": {},
   "outputs": [],
   "source": [
    "import numpy as np"
   ]
  },
  {
   "cell_type": "code",
   "execution_count": 2,
   "metadata": {},
   "outputs": [],
   "source": [
    "a = np.array([-1, 2])\n",
    "b = np.array([3, 1])"
   ]
  },
  {
   "cell_type": "code",
   "execution_count": 7,
   "metadata": {},
   "outputs": [
    {
     "data": {
      "text/plain": [
       "array([2, 3])"
      ]
     },
     "execution_count": 7,
     "metadata": {},
     "output_type": "execute_result"
    }
   ],
   "source": [
    "c = a + b\n",
    "c"
   ]
  },
  {
   "cell_type": "code",
   "execution_count": 8,
   "metadata": {},
   "outputs": [
    {
     "data": {
      "text/plain": [
       "array([-2,  4])"
      ]
     },
     "execution_count": 8,
     "metadata": {},
     "output_type": "execute_result"
    }
   ],
   "source": [
    "d = a * 2\n",
    "d"
   ]
  },
  {
   "cell_type": "code",
   "execution_count": 9,
   "metadata": {},
   "outputs": [
    {
     "data": {
      "text/plain": [
       "array([-9, -3])"
      ]
     },
     "execution_count": 9,
     "metadata": {},
     "output_type": "execute_result"
    }
   ],
   "source": [
    "e = b * (-3)\n",
    "e"
   ]
  },
  {
   "cell_type": "markdown",
   "metadata": {},
   "source": [
    "## 向量的点积\n",
    "\n",
    "如果 A 和 B 都是 n 维向量，它们的点积就是二者分量的乘积之和：\n",
    "\n",
    "if $\\quad A=\\left\\langle a_{1}, a_{2}, \\cdots, a_{n}\\right\\rangle, \\quad B=\\left\\langle b_{1}, b_{2}, \\cdots, b_{n}\\right\\rangle, \\quad$ then $\\quad A \\cdot B=\\sum_{i=1}^{n} a_{i} b_{i}$"
   ]
  },
  {
   "cell_type": "code",
   "execution_count": 13,
   "metadata": {},
   "outputs": [],
   "source": [
    "a = np.array([-2, 2])\n",
    "b = np.array([2, 2])"
   ]
  },
  {
   "cell_type": "code",
   "execution_count": 15,
   "metadata": {},
   "outputs": [
    {
     "data": {
      "text/plain": [
       "0"
      ]
     },
     "execution_count": 15,
     "metadata": {},
     "output_type": "execute_result"
    }
   ],
   "source": [
    "# 计算点积（内积）\n",
    "f = np.inner(a, b)\n",
    "f"
   ]
  },
  {
   "cell_type": "markdown",
   "metadata": {},
   "source": [
    "## 向量的叉积\n",
    "\n",
    "二维空间，两个向量的叉积是这样定义的：\n",
    "$$\n",
    "A=\\left[\\begin{array}{l}\n",
    "{a_{1}} \\\\\n",
    "{a_{2}}\n",
    "\\end{array}\\right], \\quad B=\\left[\\begin{array}{l}\n",
    "{b_{1}} \\\\\n",
    "{b_{2}}\n",
    "\\end{array}\\right]\n",
    "$$\n",
    "\n",
    "$$\n",
    "A \\times B=\\left|\\begin{array}{ll}\n",
    "{a_{1}} & {a_{2}} \\\\\n",
    "{b_{1}} & {b_{2}}\n",
    "\\end{array}\\right|=a_{1} b_{2}-a_{2} b_{1}\n",
    "$$\n",
    "\n",
    "三维空间向量：\n",
    "$$\n",
    "A=\\left[\\begin{array}{l}\n",
    "{a_{1}} \\\\\n",
    "{a_{2}} \\\\\n",
    "{a_{3}}\n",
    "\\end{array}\\right], \\quad B=\\left[\\begin{array}{l}\n",
    "{b_{1}} \\\\\n",
    "{b_{2}} \\\\\n",
    "{b_{3}}\n",
    "\\end{array}\\right]\n",
    "$$\n",
    "\n",
    "$$\n",
    "A \\times B=\\left|\\begin{array}{lll}\n",
    "{\\hat{i}} & {\\hat{j}} & {\\hat{k}} \\\\\n",
    "{a_{1}} & {a_{2}} & {a_{3}} \\\\\n",
    "{b_{1}} & {b_{2}} & {b_{3}}\n",
    "\\end{array}\\right|=\\left\\langle\\hat{i}\\left|\\begin{array}{ll}\n",
    "{a_{2}} & {a_{3}} \\\\\n",
    "{b_{2}} & {b_{3}}\n",
    "\\end{array}\\right|, -\\hat{j}\\left|\\begin{array}{cc}\n",
    "{a_{1}} & {a_{3}} \\\\\n",
    "{b_{1}} & {b_{3}}\n",
    "\\end{array}\\right|, \\hat{k}\\left|\\begin{array}{ll}\n",
    "{a_{1}} & {a_{2}} \\\\\n",
    "{b_{1}} & {b_{2}}\n",
    "\\end{array}\\right|\\right\\rangle\n",
    "$$\n",
    "$\\hat{i}$, $\\hat{j}$, $\\hat{k}$ 是每个维度的单位向量"
   ]
  },
  {
   "cell_type": "code",
   "execution_count": 16,
   "metadata": {},
   "outputs": [],
   "source": [
    "a = np.array([1, 2, 1])\n",
    "b = np.array([1, -1, 1])"
   ]
  },
  {
   "cell_type": "code",
   "execution_count": 18,
   "metadata": {},
   "outputs": [
    {
     "data": {
      "text/plain": [
       "array([ 3,  0, -3])"
      ]
     },
     "execution_count": 18,
     "metadata": {},
     "output_type": "execute_result"
    }
   ],
   "source": [
    "g = np.cross(a, b)\n",
    "g"
   ]
  },
  {
   "cell_type": "markdown",
   "metadata": {},
   "source": [
    "## 行列式计算"
   ]
  },
  {
   "cell_type": "code",
   "execution_count": 19,
   "metadata": {},
   "outputs": [
    {
     "data": {
      "text/plain": [
       "matrix([[1, 2],\n",
       "        [3, 4]])"
      ]
     },
     "execution_count": 19,
     "metadata": {},
     "output_type": "execute_result"
    }
   ],
   "source": [
    "# 定义两个矩阵\n",
    "a = np.mat('1 2;3 4')\n",
    "a"
   ]
  },
  {
   "cell_type": "code",
   "execution_count": 20,
   "metadata": {},
   "outputs": [
    {
     "data": {
      "text/plain": [
       "matrix([[2, 2, 0],\n",
       "        [1, 0, 1],\n",
       "        [0, 1, 1]])"
      ]
     },
     "execution_count": 20,
     "metadata": {},
     "output_type": "execute_result"
    }
   ],
   "source": [
    "b = np.mat('2 2 0;1 0 1;0 1 1')\n",
    "b"
   ]
  },
  {
   "cell_type": "code",
   "execution_count": 21,
   "metadata": {},
   "outputs": [],
   "source": [
    "det_a = np.linalg.det(a)\n",
    "det_b = np.linalg.det(b)"
   ]
  },
  {
   "cell_type": "code",
   "execution_count": 22,
   "metadata": {},
   "outputs": [
    {
     "data": {
      "text/plain": [
       "-2.0000000000000004"
      ]
     },
     "execution_count": 22,
     "metadata": {},
     "output_type": "execute_result"
    }
   ],
   "source": [
    "det_a"
   ]
  },
  {
   "cell_type": "code",
   "execution_count": 23,
   "metadata": {},
   "outputs": [
    {
     "data": {
      "text/plain": [
       "-4.0"
      ]
     },
     "execution_count": 23,
     "metadata": {},
     "output_type": "execute_result"
    }
   ],
   "source": [
    "det_b"
   ]
  }
 ],
 "metadata": {
  "kernelspec": {
   "display_name": "Python 3",
   "language": "python",
   "name": "python3"
  },
  "language_info": {
   "codemirror_mode": {
    "name": "ipython",
    "version": 3
   },
   "file_extension": ".py",
   "mimetype": "text/x-python",
   "name": "python",
   "nbconvert_exporter": "python",
   "pygments_lexer": "ipython3",
   "version": "3.7.4"
  }
 },
 "nbformat": 4,
 "nbformat_minor": 2
}
