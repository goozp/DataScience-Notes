{
 "cells": [
  {
   "cell_type": "markdown",
   "metadata": {},
   "source": [
    "## 导数（Dirivative）\n",
    "\n",
    "导数的内容很多，这里只展示如何借助 SymPy 在 Python 中求导。"
   ]
  },
  {
   "cell_type": "markdown",
   "metadata": {},
   "source": [
    "## 求导"
   ]
  },
  {
   "cell_type": "code",
   "execution_count": 5,
   "metadata": {},
   "outputs": [],
   "source": [
    "import numpy as np\n",
    "import sympy as sp"
   ]
  },
  {
   "cell_type": "code",
   "execution_count": 6,
   "metadata": {},
   "outputs": [],
   "source": [
    "# 定义变量 x，表示对 x 求导\n",
    "x = sp.symbols('x', real=True)"
   ]
  },
  {
   "cell_type": "markdown",
   "metadata": {},
   "source": [
    "### 对 $ y=\\tan ^{-1} x $ 求导"
   ]
  },
  {
   "cell_type": "code",
   "execution_count": 7,
   "metadata": {},
   "outputs": [
    {
     "data": {
      "text/latex": [
       "$\\displaystyle \\frac{1}{x^{2} + 1}$"
      ],
      "text/plain": [
       "1/(x**2 + 1)"
      ]
     },
     "execution_count": 7,
     "metadata": {},
     "output_type": "execute_result"
    }
   ],
   "source": [
    "# y = arctan x\n",
    "y = sp.atan(x)\n",
    "\n",
    "# 对 y = arctan x 求导\n",
    "derivative = sp.diff(y, x)\n",
    "derivative"
   ]
  },
  {
   "cell_type": "markdown",
   "metadata": {},
   "source": [
    "### 对 $ y=\\ln \\sec x $ 求导"
   ]
  },
  {
   "cell_type": "code",
   "execution_count": 8,
   "metadata": {},
   "outputs": [
    {
     "data": {
      "text/latex": [
       "$\\displaystyle \\tan{\\left(x \\right)}$"
      ],
      "text/plain": [
       "tan(x)"
      ]
     },
     "execution_count": 8,
     "metadata": {},
     "output_type": "execute_result"
    }
   ],
   "source": [
    "# y = ln sec x\n",
    "y = sp.ln(sp.sec(x))\n",
    "\n",
    "# 对 y = ln sec x 求导\n",
    "derivative = sp.diff(y, x)\n",
    "derivative"
   ]
  },
  {
   "cell_type": "markdown",
   "metadata": {},
   "source": [
    "## 高阶求导\n",
    "\n",
    "$ y=x^{n} $"
   ]
  },
  {
   "cell_type": "code",
   "execution_count": 9,
   "metadata": {},
   "outputs": [],
   "source": [
    "# 定义变量 x，表示对 x 求导\n",
    "x = sp.symbols('x')"
   ]
  },
  {
   "cell_type": "code",
   "execution_count": 10,
   "metadata": {},
   "outputs": [
    {
     "name": "stdout",
     "output_type": "stream",
     "text": [
      "D1 = 10*x**9\n",
      "D2 = 90*x**8\n",
      "D3 = 720*x**7\n",
      "D4 = 5040*x**6\n",
      "D5 = 30240*x**5\n",
      "D6 = 151200*x**4\n",
      "D7 = 604800*x**3\n",
      "D8 = 1814400*x**2\n",
      "D9 = 3628800*x\n",
      "D10 = 3628800\n",
      "D11 = 0\n"
     ]
    }
   ],
   "source": [
    "# y = x ^ 10\n",
    "y = x ** 10\n",
    "\n",
    "for n in range(1, 12):\n",
    "    # 计算 n 阶导数\n",
    "    D = sp.diff(y, x, n)\n",
    "    print('D%d = %s' % (n, D))"
   ]
  }
 ],
 "metadata": {
  "kernelspec": {
   "display_name": "Python 3",
   "language": "python",
   "name": "python3"
  },
  "language_info": {
   "codemirror_mode": {
    "name": "ipython",
    "version": 3
   },
   "file_extension": ".py",
   "mimetype": "text/x-python",
   "name": "python",
   "nbconvert_exporter": "python",
   "pygments_lexer": "ipython3",
   "version": "3.7.4"
  }
 },
 "nbformat": 4,
 "nbformat_minor": 2
}
