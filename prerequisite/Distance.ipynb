{
 "cells": [
  {
   "cell_type": "markdown",
   "metadata": {},
   "source": [
    "# 距离\n",
    "\n",
    "本篇笔记涉及：\n",
    "- 欧几里得距离\n",
    "- 曼哈顿距离\n",
    "- 切比雪夫距离\n",
    "- 夹角余弦\n"
   ]
  },
  {
   "cell_type": "markdown",
   "metadata": {},
   "source": [
    "## 欧几里得距离（Euclidean Distance）\n",
    "欧几里得距离是以空间为基准的两点间最短距离，简单地说就是两点之间的直线最短。"
   ]
  },
  {
   "cell_type": "markdown",
   "metadata": {},
   "source": [
    "### n 维空间内的两点\n",
    "多维空间中，P、Q 是 n 维空间内的两点\n",
    "$$\n",
    "P=\\left(x_{1}^{(P)}, x_{2}^{(P)}, \\cdots, x_{n}^{(P)}\\right), Q=\\left(x_{1}^{(Q)}, x_{2}^{(Q)}, \\cdots, x_{n}^{(Q)}\\right)\n",
    "$$\n",
    "\n",
    "P、Q 间的距离（欧几里得距离）：\n",
    "$$\n",
    "\\begin{aligned}\n",
    "S_{P Q} &=\\sqrt{\\left(x_{1}^{(P)}-x_{1}^{(Q)}\\right)^{2}+\\left(x_{2}^{(P)}-x_{2}^{(Q)}\\right)^{2}+\\cdots+\\left(x_{n}^{(P)}-x_{n}^{(Q)}\\right)^{2}} \\\\\n",
    "&=\\sqrt{\\sum_{i=1}^{n}\\left(x_{i}^{(P)}-x_{i}^{(Q)}\\right)^{2}}\n",
    "\\end{aligned}\n",
    "$$\n",
    "\n",
    "用向量和矩阵表示：\n",
    "$$\n",
    "x^{(P)}=\\left[\\begin{array}{c}\n",
    "{x_{1}^{(P)}} \\\\\n",
    "{x_{2}^{(P)}} \\\\\n",
    "{\\vdots} \\\\\n",
    "{x_{n}^{(P)}}\n",
    "\\end{array}\\right], \\quad x^{(Q)}=\\left[\\begin{array}{c}\n",
    "{x_{1}^{(Q)}} \\\\\n",
    "{x_{2}^{(Q)}} \\\\\n",
    "{\\vdots} \\\\\n",
    "{x_{n}^{(Q)}}\n",
    "\\end{array}\\right]\n",
    "$$\n",
    "\n",
    "$$\n",
    "S_{P Q}=\\sqrt{\\left(x^{(P)}-x^{(Q)}\\right)^{\\mathrm{T}}\\left(x^{(P)}-x^{(Q)}\\right)}\n",
    "$$"
   ]
  },
  {
   "cell_type": "markdown",
   "metadata": {},
   "source": [
    "### n 维空间中点到超平面的距离\n",
    "\n",
    "n 维空间中的平面称为超平面，可以表达为：\n",
    "$$\n",
    "g(x)=\\theta_{1} x_{1}+\\theta_{2} x_{2}+\\cdots+\\theta_{n} x_{n}+b\n",
    "$$\n",
    "\n",
    "用向量和矩阵表示为：\n",
    "$$\n",
    "\\theta=\\left[\\begin{array}{c}\n",
    "{\\theta_{1}} \\\\\n",
    "{\\theta_{2}} \\\\\n",
    "{\\vdots} \\\\\n",
    "{\\theta_{n}}\n",
    "\\end{array}\\right], \\quad x=\\left[\\begin{array}{c}\n",
    "{x_{1}} \\\\\n",
    "{x_{2}} \\\\\n",
    "{\\vdots} \\\\\n",
    "{x_{n}}\n",
    "\\end{array}\\right]\n",
    "$$\n",
    "\n",
    "$$\n",
    "g(x)=\\theta^{\\mathrm{T}} x+b\n",
    "$$\n",
    "\n",
    "那么，点到超平面的距离公式：\n",
    "$$\n",
    "\\gamma=\\frac{\\left|\\theta^{\\top} x+b\\right|}{\\sqrt{\\theta_{1}^{2}+\\theta_{2}^{2}+\\cdots+\\theta_{n}^{2}}}=\\frac{\\left|\\theta^{\\top} x+b\\right|}{\\|\\theta\\|}\n",
    "$$\n",
    "\n",
    "$\\|\\theta\\|$ 表示 $\\theta$ 的二范数。把点 P 代入到公式中，得到点 P 到超平面的距离：\n",
    "$$\n",
    "\\gamma^{(P)}=\\frac{\\left|\\theta^{\\mathrm{T}} x^{(P)}+b\\right|}{\\|\\theta\\|}\n",
    "$$"
   ]
  },
  {
   "cell_type": "code",
   "execution_count": 1,
   "metadata": {},
   "outputs": [],
   "source": [
    "import numpy as np"
   ]
  },
  {
   "cell_type": "code",
   "execution_count": 2,
   "metadata": {},
   "outputs": [],
   "source": [
    "# 定义两个点\n",
    "x1 = [1, 1]\n",
    "x2 = [2, 2]\n",
    "np_x1 = np.array(x1)\n",
    "np_x2 = np.array(x2)"
   ]
  },
  {
   "cell_type": "code",
   "execution_count": 3,
   "metadata": {},
   "outputs": [
    {
     "data": {
      "text/plain": [
       "1.4142135623730951"
      ]
     },
     "execution_count": 3,
     "metadata": {},
     "output_type": "execute_result"
    }
   ],
   "source": [
    "# 直接使用公式计算\n",
    "d1 = np.sqrt(np.sum((np_x1 - np_x2) ** 2))\n",
    "d1"
   ]
  },
  {
   "cell_type": "code",
   "execution_count": 4,
   "metadata": {},
   "outputs": [
    {
     "data": {
      "text/plain": [
       "1.4142135623730951"
      ]
     },
     "execution_count": 4,
     "metadata": {},
     "output_type": "execute_result"
    }
   ],
   "source": [
    "# 使用内置范数函数计算\n",
    "d2 = np.linalg.norm(np_x1 - np_x2)\n",
    "d2"
   ]
  },
  {
   "attachments": {},
   "cell_type": "markdown",
   "metadata": {},
   "source": [
    "## 曼哈顿距离（Manhattan Distance）\n",
    "\n",
    "![Manhattan Distance](img/distance_1.png)\n",
    "\n",
    "两点 $ A\\left(x_{1}, y_{1}\\right), B\\left(x_{2}, y_{2}\\right) $ 间曼哈顿距离的计算公式是：\n",
    "$$\n",
    "S_{A B}=\\left|x_{1}-x_{2}\\right|+\\left|y_{1}-y_{2}\\right|\n",
    "$$"
   ]
  },
  {
   "cell_type": "markdown",
   "metadata": {},
   "source": [
    "### n 维空间两点间的曼哈顿距离\n",
    "\n",
    "$$\n",
    "P=\\left(x_{1}^{(P)}, x_{2}^{(P)}, \\cdots, x_{n}^{(P)}\\right), Q=\\left(x_{1}^{(Q)}, x_{2}^{(Q)}, \\cdots, x_{n}^{(Q)}\\right)\n",
    "$$\n",
    "\n",
    "$$\n",
    "S_{P Q}=\\left|x_{1}^{(P)}-x_{1}^{(Q)}\\right|+\\left|x_{2}^{(P)}-x_{2}^{(Q)}\\right|+\\cdots+\\left|x_{n}^{(P)}-x_{n}^{(P)}\\right|=\\sum_{i=1}^{n}\\left|x_{i}^{(P)}-x_{i}^{(Q)}\\right|\n",
    "$$"
   ]
  },
  {
   "cell_type": "code",
   "execution_count": 5,
   "metadata": {},
   "outputs": [],
   "source": [
    "# 定义两个点\n",
    "x1 = [1, 3]\n",
    "x2 = [4, 9]\n",
    "np_x1 = np.array(x1)\n",
    "np_x2 = np.array(x2)"
   ]
  },
  {
   "cell_type": "code",
   "execution_count": 6,
   "metadata": {},
   "outputs": [
    {
     "data": {
      "text/plain": [
       "9"
      ]
     },
     "execution_count": 6,
     "metadata": {},
     "output_type": "execute_result"
    }
   ],
   "source": [
    "d = np.sum(np.abs(np_x1 - np_x2))\n",
    "d"
   ]
  },
  {
   "attachments": {},
   "cell_type": "markdown",
   "metadata": {},
   "source": [
    "## 切比雪夫距离（Chebyshev Distance）\n",
    "\n",
    "在数学中，切比雪夫距离（Chebyshev distance）或是 L∞ 度量，是向量空间中的一种度量，二个点之间的距离定义是**其各坐标数值差绝对值的最大值**。以数学的观点来看，切比雪夫距离是由一致范数（uniform norm）（或称为上确界范数）所衍生的度量，也是超凸度量（injective metric space）的一种。\n",
    "\n",
    "![Chebyshev Distance](img/distance_2.png)\n",
    "\n",
    "国际象棋棋盘上二个位置间的切比雪夫距离是指，王要从一个位子移至另一个位子需要走的步数。由于王可以往斜前或斜后方向移动一格，因此可以较有效率的到达目的的格子。\n",
    "\n",
    "上图是棋盘上所有位置距 f6 位置的切比雪夫距离。一维空间中，所有的Lp度量都是一样的－即为二座标差的绝对值。\n",
    "\n",
    "二维空间内，两点 $ A\\left(x_{1}, y_{1}\\right), B\\left(x_{2}, y_{2}\\right) $ 间的切比雪夫距离是两点横坐标差的绝对值与纵坐标差的绝对值中较大的那个：\n",
    "$$\n",
    "S_{A B}=\\max \\left(\\left|x_{1}-x_{2}\\right|,\\left|y_{1}-y_{2}\\right|\\right)\n",
    "$$"
   ]
  },
  {
   "cell_type": "markdown",
   "metadata": {},
   "source": [
    "### n 维空间中两点间的切比雪夫距离\n",
    "\n",
    "$$\n",
    "P=\\left(x_{1}^{(P)}, x_{2}^{(P)}, \\cdots, x_{n}^{(P)}\\right), Q=\\left(x_{1}^{(Q)}, x_{2}^{(Q)}, \\cdots, x_{n}^{(Q)}\\right)\n",
    "$$\n",
    "\n",
    "$$\n",
    "S_{P Q}=\\max _{i}\\left(\\left|x_{i}^{(P)}-x_{i}^{(Q)}\\right|\\right)\n",
    "$$"
   ]
  },
  {
   "cell_type": "code",
   "execution_count": 7,
   "metadata": {},
   "outputs": [],
   "source": [
    "# 定义两个点\n",
    "x1 = [1, 3]\n",
    "x2 = [4, 9]\n",
    "np_x1 = np.array(x1)\n",
    "np_x2 = np.array(x2)"
   ]
  },
  {
   "cell_type": "code",
   "execution_count": 8,
   "metadata": {},
   "outputs": [
    {
     "data": {
      "text/plain": [
       "6"
      ]
     },
     "execution_count": 8,
     "metadata": {},
     "output_type": "execute_result"
    }
   ],
   "source": [
    "d = np.max(np.abs(np_x1 - np_x2))\n",
    "d"
   ]
  },
  {
   "cell_type": "markdown",
   "metadata": {},
   "source": [
    "## 夹角余弦\n",
    "\n",
    "夹角余弦用于测量两个样本的相似性。余弦相似性通过测量两个向量的夹角的余弦值来度量它们之间的相似性。样本间的夹角越小，相似度越高。\n",
    "\n",
    "0度角的余弦值是1，而其他任何角度的余弦值都不大于1；并且其最小值是-1。从而两个向量之间的角度的余弦值确定两个向量是否大致指向相同的方向。两个向量有相同的指向时，余弦相似度的值为1；两个向量夹角为90°时，余弦相似度的值为0；两个向量指向完全相反的方向时，余弦相似度的值为-1。\n",
    "\n",
    "可以通过向量的点积计算二者的夹角余弦：\n",
    "$$\n",
    "A \\cdot B=|A||B| \\cos \\theta\n",
    "$$\n",
    "\n",
    "$$\n",
    "\\cos \\theta=\\frac{A \\cdot B}{|A||B|}=\\frac{x_{1} x_{2}+y_{1} y_{2}}{\\sqrt{x_{1}^{2}+y_{1}^{2}} \\sqrt{x_{2}^{2}+y_{2}^{2}}}\n",
    "$$\n",
    "$\\cos \\theta$ 表示的是 A 和 B 的方向的相似度，与它们的大小无关。"
   ]
  },
  {
   "cell_type": "markdown",
   "metadata": {},
   "source": [
    "### n 维空间的夹角余弦\n",
    "\n",
    "$$\n",
    "\\begin{aligned}\n",
    "\\cos \\theta &=\\frac{x_{1}^{(P)} x_{1}^{(Q)}+x_{2}^{(P)} x_{2}^{(Q)}+\\cdots+x_{n}^{(P)} x_{n}^{(Q)}}{\\sqrt{\\left(x_{1}^{(P)}\\right)^{2}+\\left(x_{2}^{(P)}\\right)^{2}+\\cdots+\\left(x_{n}^{(P)}\\right)^{2}} \\sqrt{\\left(x_{1}^{(Q)}\\right)^{2}+\\left(x_{2}^{(Q)}\\right)^{2}+\\cdots+\\left(x_{n}^{(Q)}\\right)^{2}}} \\\\\n",
    "&=\\frac{\\sum_{i=1}^{n} x_{i}^{(P)} x_{i}^{(Q)}}{\\sqrt{\\sum_{i=1}^{n}\\left(x_{i}^{(P)}\\right)^{2}} \\sqrt{\\sum_{i=1}^{n}\\left(x_{i}^{(Q)}\\right)^{2}}}\n",
    "\\end{aligned}\n",
    "$$\n",
    "\n",
    "用向量的写法：\n",
    "$$\n",
    "x^{(P)}=\\left[\\begin{array}{c}\n",
    "{x_{1}^{(P)}} \\\\\n",
    "{x_{2}^{(P)}} \\\\\n",
    "{\\vdots} \\\\\n",
    "{x_{n}^{(P)}}\n",
    "\\end{array}\\right], x^{(Q)}=\\left[\\begin{array}{c}\n",
    "{x_{1}^{(Q)}} \\\\\n",
    "{x_{2}^{(Q)}} \\\\\n",
    "{\\vdots} \\\\\n",
    "{x_{n}^{(Q)}}\n",
    "\\end{array}\\right]\n",
    "$$\n",
    "\n",
    "$$\n",
    "\\cos \\theta=\\frac{x^{(P)^{\\mathrm{T}}} x^{(Q)}}{\\sqrt{x^{(P)^{\\mathrm{T}}} x^{(P)}} \\sqrt{x^{(Q)^{\\mathrm{T}} x(Q)}}}\n",
    "$$"
   ]
  },
  {
   "cell_type": "code",
   "execution_count": 19,
   "metadata": {},
   "outputs": [],
   "source": [
    "# 定义两个向量\n",
    "x1 = [1, 2, 3, 5]\n",
    "x2 = [2, 3, 4, 6]\n",
    "np_x1 = np.array(x1)\n",
    "np_x2 = np.array(x2)"
   ]
  },
  {
   "cell_type": "code",
   "execution_count": 20,
   "metadata": {},
   "outputs": [
    {
     "data": {
      "text/plain": [
       "0.9930726528736966"
      ]
     },
     "execution_count": 20,
     "metadata": {},
     "output_type": "execute_result"
    }
   ],
   "source": [
    "result1 = np.dot(np_x1, np_x2)/np.sqrt(np.dot(np_x1, np_x1) * np.dot(np_x2, np_x2))\n",
    "result1"
   ]
  },
  {
   "cell_type": "code",
   "execution_count": 21,
   "metadata": {},
   "outputs": [
    {
     "data": {
      "text/plain": [
       "0.9930726528736966"
      ]
     },
     "execution_count": 21,
     "metadata": {},
     "output_type": "execute_result"
    }
   ],
   "source": [
    "# np.linalg.norm 直接计算模长\n",
    "result2 = np.dot(np_x1, np_x2)/(np.linalg.norm(np_x1) * np.linalg.norm(np_x2))\n",
    "result2"
   ]
  },
  {
   "cell_type": "code",
   "execution_count": 22,
   "metadata": {},
   "outputs": [
    {
     "data": {
      "text/plain": [
       "0.11777402053938608"
      ]
     },
     "execution_count": 22,
     "metadata": {},
     "output_type": "execute_result"
    }
   ],
   "source": [
    "theta = np.arccos(result1)\n",
    "theta"
   ]
  }
 ],
 "metadata": {
  "kernelspec": {
   "display_name": "Python 3",
   "language": "python",
   "name": "python3"
  },
  "language_info": {
   "codemirror_mode": {
    "name": "ipython",
    "version": 3
   },
   "file_extension": ".py",
   "mimetype": "text/x-python",
   "name": "python",
   "nbconvert_exporter": "python",
   "pygments_lexer": "ipython3",
   "version": "3.7.4"
  }
 },
 "nbformat": 4,
 "nbformat_minor": 2
}
