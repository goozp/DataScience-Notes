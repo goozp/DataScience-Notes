{
 "cells": [
  {
   "cell_type": "markdown",
   "metadata": {},
   "source": [
    "# Logistic Regression 逻辑斯蒂回归\n",
    "\n",
    "Sklearn 实现 logistic regression.\n",
    "\n",
    "Logistic Regression 解决二分类问题。"
   ]
  },
  {
   "cell_type": "code",
   "execution_count": 1,
   "metadata": {},
   "outputs": [],
   "source": [
    "from sklearn.linear_model import LogisticRegression\n",
    "import numpy as np"
   ]
  },
  {
   "cell_type": "code",
   "execution_count": 2,
   "metadata": {},
   "outputs": [],
   "source": [
    "# 训练数据集\n",
    "X_train = np.array([[3,3,3], [4,3,2], [2,1,2], [1,1,1], [-1,0,1], [2,-2,1]])\n",
    "y_train = np.array([1, 1, 1, 0, 0, 0])"
   ]
  },
  {
   "cell_type": "code",
   "execution_count": 3,
   "metadata": {},
   "outputs": [],
   "source": [
    "# 选择不同 solver, 构建实例，进行训练、测试\n",
    "methodes = [\"liblinear\", \"newton-cg\", \"lbfgs\", \"sag\", \"saga\"]\n",
    "\n",
    "res=[]\n",
    "X_new = np.array([[1, 2, -2]])\n",
    "for method in methodes:\n",
    "    clf=LogisticRegression(solver=method,intercept_scaling=2,max_iter=1000)\n",
    "    clf.fit(X_train,y_train)\n",
    "    # 预测新数据\n",
    "    y_predict=clf.predict(X_new)\n",
    "    #利用已有数据对训练模型进行评价\n",
    "    X_test=X_train\n",
    "    y_test=y_train\n",
    "    correct_rate=clf.score(X_test,y_test)\n",
    "    res.append((y_predict,correct_rate))"
   ]
  },
  {
   "cell_type": "code",
   "execution_count": 4,
   "metadata": {},
   "outputs": [
    {
     "name": "stdout",
     "output_type": "stream",
     "text": [
      "solver选择：          liblinear  newton-cg  lbfgs      sag        saga      \n",
      "[ 1  2 -2]被分类为：  [0]        [0]        [0]        [0]        [0]\n",
      "测试6组数据，正确率： 1.0        1.0        1.0        1.0        1.0\n"
     ]
    }
   ],
   "source": [
    "# 格式化输出\n",
    "methodes=[\"liblinear\",\"newton-cg\",\"lbfgs    \",\"sag      \",\"saga      \"]\n",
    "print(\"solver选择：          {}\".format(\"  \".join(method for method in methodes)))\n",
    "print(\"{}被分类为：  {}\".format(X_new[0],\"        \".join(str(re[0]) for re in res)))\n",
    "print(\"测试{}组数据，正确率： {}\".format(X_train.shape[0],\"        \".join(str(round(re[1],1)) for re in res)))"
   ]
  }
 ],
 "metadata": {
  "kernelspec": {
   "display_name": "Python 3",
   "language": "python",
   "name": "python3"
  },
  "language_info": {
   "codemirror_mode": {
    "name": "ipython",
    "version": 3
   },
   "file_extension": ".py",
   "mimetype": "text/x-python",
   "name": "python",
   "nbconvert_exporter": "python",
   "pygments_lexer": "ipython3",
   "version": "3.7.4"
  }
 },
 "nbformat": 4,
 "nbformat_minor": 4
}
