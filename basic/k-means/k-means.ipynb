{
 "cells": [
  {
   "cell_type": "markdown",
   "metadata": {},
   "source": [
    "# K-Means 算法\n",
    "\n",
    "K-Means 算法属于无监督学习的聚类算法。\n",
    "\n",
    "本实例实现用 K-Means 完成鸢尾花分类任务，纯 Python 实现。"
   ]
  },
  {
   "cell_type": "markdown",
   "metadata": {},
   "source": [
    "## 读取数据"
   ]
  },
  {
   "cell_type": "code",
   "execution_count": 1,
   "metadata": {},
   "outputs": [
    {
     "data": {
      "text/html": [
       "<div>\n",
       "<style scoped>\n",
       "    .dataframe tbody tr th:only-of-type {\n",
       "        vertical-align: middle;\n",
       "    }\n",
       "\n",
       "    .dataframe tbody tr th {\n",
       "        vertical-align: top;\n",
       "    }\n",
       "\n",
       "    .dataframe thead th {\n",
       "        text-align: right;\n",
       "    }\n",
       "</style>\n",
       "<table border=\"1\" class=\"dataframe\">\n",
       "  <thead>\n",
       "    <tr style=\"text-align: right;\">\n",
       "      <th></th>\n",
       "      <th>1\\t\"id\"</th>\n",
       "      <th>Sepal.Length</th>\n",
       "      <th>Sepal.Width</th>\n",
       "      <th>Petal.Length</th>\n",
       "      <th>Petal.Width</th>\n",
       "      <th>Species</th>\n",
       "    </tr>\n",
       "  </thead>\n",
       "  <tbody>\n",
       "    <tr>\n",
       "      <th>0</th>\n",
       "      <td>2\\t\"1\"</td>\n",
       "      <td>5.1</td>\n",
       "      <td>3.5</td>\n",
       "      <td>1.4</td>\n",
       "      <td>0.2</td>\n",
       "      <td>setosa</td>\n",
       "    </tr>\n",
       "    <tr>\n",
       "      <th>1</th>\n",
       "      <td>3\\t\"2\"</td>\n",
       "      <td>4.9</td>\n",
       "      <td>3.0</td>\n",
       "      <td>1.4</td>\n",
       "      <td>0.2</td>\n",
       "      <td>setosa</td>\n",
       "    </tr>\n",
       "    <tr>\n",
       "      <th>2</th>\n",
       "      <td>4\\t\"3\"</td>\n",
       "      <td>4.7</td>\n",
       "      <td>3.2</td>\n",
       "      <td>1.3</td>\n",
       "      <td>0.2</td>\n",
       "      <td>setosa</td>\n",
       "    </tr>\n",
       "    <tr>\n",
       "      <th>3</th>\n",
       "      <td>5\\t\"4\"</td>\n",
       "      <td>4.6</td>\n",
       "      <td>3.1</td>\n",
       "      <td>1.5</td>\n",
       "      <td>0.2</td>\n",
       "      <td>setosa</td>\n",
       "    </tr>\n",
       "    <tr>\n",
       "      <th>4</th>\n",
       "      <td>6\\t\"5\"</td>\n",
       "      <td>5.0</td>\n",
       "      <td>3.6</td>\n",
       "      <td>1.4</td>\n",
       "      <td>0.2</td>\n",
       "      <td>setosa</td>\n",
       "    </tr>\n",
       "  </tbody>\n",
       "</table>\n",
       "</div>"
      ],
      "text/plain": [
       "  1\\t\"id\"  Sepal.Length  Sepal.Width  Petal.Length  Petal.Width Species\n",
       "0  2\\t\"1\"           5.1          3.5           1.4          0.2  setosa\n",
       "1  3\\t\"2\"           4.9          3.0           1.4          0.2  setosa\n",
       "2  4\\t\"3\"           4.7          3.2           1.3          0.2  setosa\n",
       "3  5\\t\"4\"           4.6          3.1           1.5          0.2  setosa\n",
       "4  6\\t\"5\"           5.0          3.6           1.4          0.2  setosa"
      ]
     },
     "execution_count": 1,
     "metadata": {},
     "output_type": "execute_result"
    }
   ],
   "source": [
    "import pandas as pd\n",
    "\n",
    "data = pd.read_csv(\"../data/iris001.txt\", header=0)\n",
    "data.head()"
   ]
  },
  {
   "cell_type": "markdown",
   "metadata": {},
   "source": [
    "K-Means 算法是无监督算法，不需要 label，我们这里的 label 用于最后进行评估。"
   ]
  },
  {
   "cell_type": "code",
   "execution_count": 2,
   "metadata": {},
   "outputs": [],
   "source": [
    "x = data.iloc[:, [1, 2]].values\n",
    "y = data.iloc[:, [5]].values"
   ]
  },
  {
   "cell_type": "code",
   "execution_count": 3,
   "metadata": {},
   "outputs": [
    {
     "name": "stdout",
     "output_type": "stream",
     "text": [
      "<class 'numpy.ndarray'>\n",
      "example x： [5.1 3.5]\n",
      "<class 'numpy.ndarray'>\n",
      "example y： ['setosa']\n"
     ]
    }
   ],
   "source": [
    "print(type(x))\n",
    "print(\"example x：\", x[0])\n",
    "print(type(y))\n",
    "print(\"example y：\", y[0])"
   ]
  },
  {
   "cell_type": "code",
   "execution_count": 4,
   "metadata": {},
   "outputs": [
    {
     "data": {
      "text/plain": [
       "<matplotlib.collections.PathCollection at 0x1d676589588>"
      ]
     },
     "execution_count": 4,
     "metadata": {},
     "output_type": "execute_result"
    },
    {
     "data": {
      "image/png": "[encoded data removed]",
      "text/plain": [
       "<Figure size 432x288 with 1 Axes>"
      ]
     },
     "metadata": {
      "needs_background": "light"
     },
     "output_type": "display_data"
    }
   ],
   "source": [
    "%matplotlib inline\n",
    "import numpy as np  \n",
    "import matplotlib.pyplot as plt\n",
    "\n",
    "# Getting the values and plotting it\n",
    "f1 = data['Sepal.Length'].values # x coordinates\n",
    "f2 = data['Sepal.Width'].values # y coordinates\n",
    "plt.scatter(f1, f2, s=8)"
   ]
  },
  {
   "cell_type": "markdown",
   "metadata": {},
   "source": [
    "## K-Means 实现"
   ]
  },
  {
   "cell_type": "markdown",
   "metadata": {},
   "source": [
    "### 定义距离计算函数"
   ]
  },
  {
   "cell_type": "code",
   "execution_count": 5,
   "metadata": {},
   "outputs": [],
   "source": [
    "import math  \n",
    "import numpy as np\n",
    "from copy import deepcopy   #for copy array values instead of just copying the pointers\n",
    "\n",
    "# Euclidean Distance Caculator\n",
    "def dist(a, b, ax=1):       \n",
    "    return np.linalg.norm(a - b, axis=ax)"
   ]
  },
  {
   "cell_type": "markdown",
   "metadata": {},
   "source": [
    "### 随机初始化生成 k 个中心点"
   ]
  },
  {
   "cell_type": "code",
   "execution_count": 6,
   "metadata": {},
   "outputs": [
    {
     "name": "stdout",
     "output_type": "stream",
     "text": [
      "Three random initialized centroids as a matrix: \n",
      " [[5.724498  2.615056 ]\n",
      " [5.7377014 2.2628114]\n",
      " [4.6981096 4.2087317]]\n"
     ]
    }
   ],
   "source": [
    "# define the number of clusters\n",
    "k = 3\n",
    "# generate k number's X coordinates of random centroids\n",
    "centroids_x = np.random.uniform(np.min(f1), np.max(f1),  size=k)\n",
    "# generate k number'Y coordinates of random centroids\n",
    "centroids_y = np.random.uniform(np.min(f2), np.max(f2),  size=k)\n",
    "\n",
    "centroids = np.array(list(zip(centroids_x, centroids_y)), dtype=np.float32)\n",
    "print(\"Three random initialized centroids as a matrix: \\n\", centroids)"
   ]
  },
  {
   "cell_type": "markdown",
   "metadata": {},
   "source": [
    "### 迭代算法"
   ]
  },
  {
   "cell_type": "code",
   "execution_count": 7,
   "metadata": {},
   "outputs": [
    {
     "name": "stdout",
     "output_type": "stream",
     "text": [
      "Iteration: 1 ;Error: 0.961480\n",
      "Iteration: 2 ;Error: 0.356171\n",
      "Iteration: 3 ;Error: 0.228870\n",
      "Iteration: 4 ;Error: 0.101282\n",
      "Iteration: 5 ;Error: 0.079839\n",
      "Iteration: 6 ;Error: 0.079449\n",
      "Iteration: 7 ;Error: 0.072060\n",
      "Iteration: 8 ;Error: 0.015924\n",
      "Iteration: 9 ;Error: 0.000000\n",
      "Afert 9 iterations, the algorithm converge.\n"
     ]
    }
   ],
   "source": [
    "# To store the value of centroids when it updates\n",
    "c_old = np.zeros(centroids.shape)\n",
    "\n",
    "# init the cluster Lables(0, 1, 2), all 0\n",
    "clusters = np.zeros(len(x))\n",
    "\n",
    "# Error func: Distance between new centroids and old centroids\n",
    "error = dist(centroids, c_old, None)\n",
    "iteration = 0\n",
    "# error is o when centroids do not change\n",
    "while error != 0:\n",
    "    iteration += 1\n",
    "    # Assigning each value to its closest cluster\n",
    "    for i in range(len(x)):\n",
    "        # calculate the distance between this point and the three centroid point\n",
    "        distances = dist(x[i], centroids)\n",
    "        # get the centroid point that has less distance and set to its cluster\n",
    "        cluster = np.argmin(distances)\n",
    "        clusters[i] = cluster\n",
    "        \n",
    "    # Storing the old centroid values\n",
    "    c_old = deepcopy(centroids)\n",
    "    \n",
    "    # After clustering, fine the new centroids by taking the average value\n",
    "    for i in range(k):\n",
    "        # all points in this cluster\n",
    "        points = [ x[j] for j in range(len(x)) if clusters[j] == i ]\n",
    "        # the mean value in this cluster, as new centroid point\n",
    "        centroids[i] = np.mean(points, axis=0)\n",
    "        \n",
    "    # calculate the error, if it is not 0, turn to next iter\n",
    "    error = dist(centroids, c_old, None)\n",
    "    print(\"Iteration: %d ;Error: %f\" % (iteration, error))\n",
    "\n",
    "print(\"Afert %d iterations, the algorithm converge.\"  % iteration)"
   ]
  },
  {
   "cell_type": "markdown",
   "metadata": {},
   "source": [
    "## 评估对比"
   ]
  },
  {
   "cell_type": "code",
   "execution_count": 8,
   "metadata": {},
   "outputs": [
    {
     "data": {
      "image/png": "[encoded data removed]",
      "text/plain": [
       "<Figure size 864x288 with 2 Axes>"
      ]
     },
     "metadata": {
      "needs_background": "light"
     },
     "output_type": "display_data"
    }
   ],
   "source": [
    "# compare y & y_predict in this cell, graphically or by other method (30 marks)\n",
    "\n",
    "# colors to plot\n",
    "colors = ['g', 'r', 'b']\n",
    "\n",
    "fig, (ax1, ax2) = plt.subplots(1, 2, figsize=(12, 4))\n",
    "\n",
    "# y_predict\n",
    "for i in range(k):\n",
    "        points = np.array([x[j] for j in range(len(x)) if clusters[j] == i])\n",
    "        ax1.scatter(points[:, 0], points[:, 1], s=8, c=colors[i])\n",
    "ax1.set_title('Sepal.Length vs Sepal.Width; k-mean')\n",
    "ax1.set_xlabel('Sepal.Length')\n",
    "ax1.set_ylabel('Sepal.Width')\n",
    "\n",
    "# y\n",
    "all_type = {\n",
    "    'setosa':0,\n",
    "    'versicolor':1,\n",
    "    'virginica':2\n",
    "}\n",
    "true_clusters = np.zeros(len(x))\n",
    "for i in range(len(x)):\n",
    "    true_clusters[i] = all_type[y[i][0]]\n",
    "for i in range(k):\n",
    "        points = np.array([ x[j] for j in range(len(x)) if true_clusters[j] == i])\n",
    "        ax2.scatter(points[:, 0], points[:, 1], s=8, c=colors[i])\n",
    "ax2.set_title('Sepal.Length vs Sepal.Width; raw data')\n",
    "ax2.set_xlabel('Sepal.Length')\n",
    "ax2.set_ylabel('Sepal.Width')\n",
    "\n",
    "plt.show()"
   ]
  },
  {
   "cell_type": "markdown",
   "metadata": {},
   "source": [
    "\n",
    "\n"
   ]
  },
  {
   "cell_type": "code",
   "execution_count": 9,
   "metadata": {},
   "outputs": [
    {
     "name": "stdout",
     "output_type": "stream",
     "text": [
      "The accuracy of k-means algorithm in current task is 0.25333333333333335\n"
     ]
    }
   ],
   "source": [
    "# accuracy calculator\n",
    "def accuracy(x, y, y_predict):\n",
    "    correct = 0\n",
    "    total = 0\n",
    "    for i in range(len(x)):\n",
    "        if y[i] == y_predict[i]:\n",
    "            correct += 1\n",
    "        total += 1\n",
    "    return correct/total\n",
    "\n",
    "acc = accuracy(x, true_clusters, clusters)\n",
    "print(\"The accuracy of k-means algorithm in current task is\", acc)"
   ]
  }
 ],
 "metadata": {
  "kernelspec": {
   "display_name": "Python 3",
   "language": "python",
   "name": "python3"
  },
  "language_info": {
   "codemirror_mode": {
    "name": "ipython",
    "version": 3
   },
   "file_extension": ".py",
   "mimetype": "text/x-python",
   "name": "python",
   "nbconvert_exporter": "python",
   "pygments_lexer": "ipython3",
   "version": "3.7.4"
  }
 },
 "nbformat": 4,
 "nbformat_minor": 4
}
