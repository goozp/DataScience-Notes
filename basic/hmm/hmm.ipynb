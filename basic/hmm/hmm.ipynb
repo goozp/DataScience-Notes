{
 "cells": [
  {
   "cell_type": "markdown",
   "metadata": {},
   "source": [
    "# Hidden Markov Model 隐马尔可夫模型\n",
    "\n",
    "隐马尔可夫模型，用来描述一个含有隐含未知参数的马尔可夫过程。\n",
    "\n",
    "[如何用简单易懂的例子解释隐马尔可夫模型？](https://www.zhihu.com/question/20962240)"
   ]
  },
  {
   "cell_type": "markdown",
   "metadata": {},
   "source": [
    "在正常的马尔可夫模型中，状态对于观察者来说是直接可见的。这样状态的转换概率便是全部的参数。而在隐马尔可夫模型中，状态并不是直接可见的，但受状态影响的某些变量则是可见的。每一个状态在可能输出的符号上都有一概率分布。因此输出符号的序列能够透露出状态序列的一些信息。"
   ]
  },
  {
   "cell_type": "markdown",
   "metadata": {},
   "source": [
    "## 马尔可夫过程\n",
    "\n",
    "马尔可夫过程是一个具备了马尔可夫性质的随机过程。具备离散状态的马尔可夫过程，通常被称为**马尔可夫链**。马尔可夫链通常使用离散的时间集合定义，又称离散时间马尔可夫链"
   ]
  },
  {
   "cell_type": "markdown",
   "metadata": {},
   "source": [
    "### 马尔可夫链"
   ]
  },
  {
   "cell_type": "markdown",
   "metadata": {},
   "source": [
    "假设状态序列为 $\\cdots x_{t-2}, x_{t-1}, x_{t}, x_{t+1}, x_{t+2}, \\cdots$，由马尔科夫链定义可知，时刻 $x_{t+1}$ 的状态只与 $x_t$ 有关，用数学公式来描述就是：\n",
    "\n",
    "$$P\\left(x_{t+1} | \\cdots, x_{t-2}, x_{t-1}, x_{t}\\right)=P\\left(x_{t+1} | x_{t}\\right)$$"
   ]
  },
  {
   "cell_type": "markdown",
   "metadata": {},
   "source": [
    "### 示例\n",
    "\n",
    "这些圆圈中的状态代表假设的股票市场是否在某个特定周内表现出牛市（ bull market），熊市（bear market）或停滞的（ stagnant market）市场走势。 根据这个数字，一个牛市周之后下一周还是牛市周的概率为 90％，是熊市概率为 7.5％，持平的概率为 2.5%。"
   ]
  },
  {
   "cell_type": "markdown",
   "metadata": {},
   "source": [
    "![](./img/马尔科夫链.png)"
   ]
  },
  {
   "cell_type": "markdown",
   "metadata": {},
   "source": [
    "若我们标记状态空间 {1 = bull，2 = bear，3 = stagnant}，则这个例子的转换矩阵是：\n",
    "\n",
    "$$P=\\left[\\begin{array}{ccc}\n",
    "0.9 & 0.075 & 0.025 \\\\\n",
    "0.15 & 0.8 & 0.05 \\\\\n",
    "0.25 & 0.25 & 0.5\n",
    "\\end{array}\\right]$$"
   ]
  },
  {
   "cell_type": "markdown",
   "metadata": {},
   "source": [
    "## 隐马尔可夫模型"
   ]
  },
  {
   "cell_type": "markdown",
   "metadata": {},
   "source": [
    "![](./img/hmm.png)"
   ]
  },
  {
   "cell_type": "markdown",
   "metadata": {},
   "source": [
    "### Python 示例"
   ]
  },
  {
   "cell_type": "code",
   "execution_count": 1,
   "metadata": {},
   "outputs": [],
   "source": [
    "import numpy as np\n",
    "import pandas as pd"
   ]
  },
  {
   "cell_type": "code",
   "execution_count": 2,
   "metadata": {},
   "outputs": [],
   "source": [
    "class MyHMM:\n",
    "    def __init__(self, p, A, B, Ob, method=\"forward\"):\n",
    "        self.p = p  # 初始状态概率\n",
    "        self.A = A  # 状态转移概率分布\n",
    "        self.B = B  # 观测概率分布\n",
    "        self.Ob = Ob  # 观测序列\n",
    "        self.method = method  # 采用算法\n",
    "\n",
    "    def forward(self):\n",
    "        \"\"\"\n",
    "        前向算法\n",
    "        \"\"\"\n",
    "        alpha = self.p*self.B[self.Ob[0]]\n",
    "        for i in range(1, self.Ob.size):\n",
    "            alpha = alpha.dot(self.A)*self.B[self.Ob[i]]\n",
    "        return alpha.sum()\n",
    "\n",
    "    def back(self):\n",
    "        \"\"\"\n",
    "        后向算法\n",
    "        \"\"\"\n",
    "        beta = np.ones(self.p.size)\n",
    "        for i in range(1, self.Ob.size):\n",
    "            beta = self.A.dot(self.B[self.Ob[self.Ob.size-i]]*beta)\n",
    "        res = self.p.dot(self.B[self.Ob[0]]*beta)\n",
    "        return res\n",
    "\n",
    "    def fit(self):\n",
    "        if \"forward\" in self.method:\n",
    "            print(\"使用前向算法\")\n",
    "            res = self.forward()\n",
    "        elif \"back\" in self.method:\n",
    "            print(\"使用后向算法\")\n",
    "            res = self.back()\n",
    "        else:\n",
    "            raise ValueError\n",
    "        return res\n",
    "\n",
    "    def best_way(self):\n",
    "        \"\"\"\n",
    "        最优路径\n",
    "        \"\"\"\n",
    "        index = []\n",
    "        sigema = self.p*self.B[self.Ob[0]]\n",
    "        for i in range(1, self.Ob.size):\n",
    "            _sigema = sigema.values*(self.A.T)\n",
    "            col_index = np.argmax(_sigema, axis=1)\n",
    "            row_index = np.arange(self.p.size)\n",
    "            sigema = _sigema[row_index, col_index]*self.B[self.Ob[i]]\n",
    "            index.append(dict(enumerate(col_index)))\n",
    "        best_index = []\n",
    "        k = np.argmax(np.array(sigema))\n",
    "        best_index.append(k)\n",
    "        for i in range(len(index)):\n",
    "            k = index[len(index)-1-i][k]\n",
    "            best_index.append(k)\n",
    "        best_index = np.array(best_index[::-1])+1\n",
    "        return best_index"
   ]
  },
  {
   "cell_type": "code",
   "execution_count": 3,
   "metadata": {},
   "outputs": [
    {
     "name": "stdout",
     "output_type": "stream",
     "text": [
      "使用后向算法\n",
      "0.06\n"
     ]
    }
   ],
   "source": [
    "A = np.array([[0.5, 0.2, 0.3],\n",
    "              [0.3, 0.5, 0.2],\n",
    "              [0.2, 0.3, 0.5]])\n",
    "\n",
    "B = pd.DataFrame(np.array([[0.5, 0.5],\n",
    "                           [0.4, 0.6],\n",
    "                           [0.7, 0.3]]), columns=[\"红\", \"白\"])\n",
    "\n",
    "p = np.array([0.2, 0.4, 0.4])\n",
    "\n",
    "Ob = np.array([\"红\", \"白\", \"红\", \"白\"])\n",
    "\n",
    "clf = MyHMM(p, A, B, Ob, method=\"back\")\n",
    "res = clf.fit()\n",
    "print(round(res, 2))"
   ]
  },
  {
   "cell_type": "code",
   "execution_count": 4,
   "metadata": {},
   "outputs": [
    {
     "name": "stdout",
     "output_type": "stream",
     "text": [
      "[3 2 2 2]\n"
     ]
    }
   ],
   "source": [
    "best_way = clf.best_way()\n",
    "print(best_way)"
   ]
  }
 ],
 "metadata": {
  "kernelspec": {
   "display_name": "Python 3",
   "language": "python",
   "name": "python3"
  },
  "language_info": {
   "codemirror_mode": {
    "name": "ipython",
    "version": 3
   },
   "file_extension": ".py",
   "mimetype": "text/x-python",
   "name": "python",
   "nbconvert_exporter": "python",
   "pygments_lexer": "ipython3",
   "version": "3.7.4"
  }
 },
 "nbformat": 4,
 "nbformat_minor": 4
}
