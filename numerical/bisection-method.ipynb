{
 "cells": [
  {
   "cell_type": "markdown",
   "metadata": {},
   "source": [
    "# The Bisection Method (二分法)\n",
    "\n",
    "对于区间 $[a，b]$ 上**连续不断**且 $f(a) \\cdot f(b)<0$ 的函数 $y=f(x)$，通过不断地把函数$f(x)$ 的零点所在的区间一分为二，使区间的两个端点逐步逼近零点，进而得到零点近似值的方法叫二分法。"
   ]
  },
  {
   "cell_type": "markdown",
   "metadata": {},
   "source": [
    "## 示例：Python 二分法求一元方程"
   ]
  },
  {
   "cell_type": "markdown",
   "metadata": {},
   "source": [
    "二分法求 $x^{3}-2 x-5=0$ 在 $[2，3]$ 之间的根"
   ]
  },
  {
   "cell_type": "code",
   "execution_count": 1,
   "metadata": {},
   "outputs": [],
   "source": [
    "def SqrtBisection(equation, a, b, N, tol=1e-3):\n",
    "    \"\"\"Finding the Roots of a Univariate Equation by The Bisection Method \n",
    "    \n",
    "    Args:\n",
    "        equation: the equation that need to find the root\n",
    "        a: endpoints a\n",
    "        b: endpoints b \n",
    "        N: maximum number of iterations\n",
    "        tol: tolerance\n",
    "        \n",
    "    Returns:\n",
    "        i: iterations i\n",
    "        res: approximate solution p\n",
    "    \n",
    "    \"\"\"\n",
    "    i = 0\n",
    "    res=None\n",
    "\n",
    "    while i < N:\n",
    "        i += 1\n",
    "        \n",
    "        p = a + (b-a)/2\n",
    "        FP = equation(p)\n",
    "        if FP==0 or (b-a)/2 < tol:\n",
    "            res = p\n",
    "            break\n",
    "  \n",
    "        FA = equation(a)\n",
    "        if FA*FP > 0:\n",
    "            a = p\n",
    "        else:\n",
    "            b = p\n",
    "    return i, res"
   ]
  },
  {
   "cell_type": "code",
   "execution_count": 2,
   "metadata": {},
   "outputs": [],
   "source": [
    "# 定义方程\n",
    "def examplef(x):\n",
    "    f= pow(x,3) - 2*x - 5\n",
    "    return f"
   ]
  },
  {
   "cell_type": "code",
   "execution_count": 3,
   "metadata": {
    "scrolled": true
   },
   "outputs": [
    {
     "name": "stdout",
     "output_type": "stream",
     "text": [
      "After 10 iterations, the root is 2.0947265625\n"
     ]
    }
   ],
   "source": [
    "iteration, re = SqrtBisection(examplef, 2, 3, 100)\n",
    "if not re is None:\n",
    "    print(\"After %d iterations, the root is %s\" % (iteration, re))\n",
    "else:\n",
    "    print(\"After %d iterations, method failed\" % iteration)"
   ]
  },
  {
   "cell_type": "markdown",
   "metadata": {},
   "source": [
    "### 验证"
   ]
  },
  {
   "cell_type": "code",
   "execution_count": 4,
   "metadata": {},
   "outputs": [
    {
     "name": "stdout",
     "output_type": "stream",
     "text": [
      "0.00195434782654047\n"
     ]
    }
   ],
   "source": [
    "fre = examplef(re)\n",
    "print(fre)"
   ]
  },
  {
   "cell_type": "code",
   "execution_count": 5,
   "metadata": {},
   "outputs": [
    {
     "data": {
      "text/plain": [
       "Text(0.5, 1.0, 'Bisection Method')"
      ]
     },
     "execution_count": 5,
     "metadata": {},
     "output_type": "execute_result"
    },
    {
     "data": {
      "image/png": "[encoded data removed]",
      "text/plain": [
       "<Figure size 720x432 with 1 Axes>"
      ]
     },
     "metadata": {
      "needs_background": "light"
     },
     "output_type": "display_data"
    }
   ],
   "source": [
    "import numpy as np\n",
    "import matplotlib.pyplot as plt\n",
    "%matplotlib inline\n",
    "\n",
    "x = np.linspace(-5, 5, 1000)\n",
    "y = examplef(x)\n",
    "plt.figure(figsize=(10, 6))\n",
    "plt.plot(x, y, linewidth=2)\n",
    "#截取x的某一部分\n",
    "plt.xlim((-5,5))\n",
    "\n",
    "ax = plt.gca() # 获取当前轴\n",
    "# 去掉轴上边和右边\n",
    "ax.spines['right'].set_color('None')\n",
    "ax.spines['top'].set_color('None')\n",
    "# 移动下边和左边\n",
    "ax.xaxis.set_ticks_position('bottom')\n",
    "ax.yaxis.set_ticks_position('left')\n",
    "ax.spines['bottom'].set_position(('data', 0))\n",
    "ax.spines['left'].set_position(('data', 0))\n",
    "\n",
    "# 把 root 画出来\n",
    "ax.plot(re, examplef(re), 'r*', markersize=14)\n",
    "# root 点做一个注释\n",
    "ax.annotate(\"Root approximately at %f\" % re,\n",
    "    fontsize=14, family=\"serif\",\n",
    "    xy=(re, fre), xycoords='data',\n",
    "    xytext=(-110, 80), textcoords='offset points',\n",
    "    arrowprops=dict(arrowstyle=\"->\", connectionstyle=\"arc3, rad=-.5\"))\n",
    "\n",
    "ax.set_xlabel(r'$x$', fontsize=18)\n",
    "ax.set_ylabel(r'$f(x)$', fontsize=18)\n",
    "ax.set_title(\"Bisection Method\")"
   ]
  }
 ],
 "metadata": {
  "kernelspec": {
   "display_name": "Python 3",
   "language": "python",
   "name": "python3"
  },
  "language_info": {
   "codemirror_mode": {
    "name": "ipython",
    "version": 3
   },
   "file_extension": ".py",
   "mimetype": "text/x-python",
   "name": "python",
   "nbconvert_exporter": "python",
   "pygments_lexer": "ipython3",
   "version": "3.7.4"
  }
 },
 "nbformat": 4,
 "nbformat_minor": 4
}
