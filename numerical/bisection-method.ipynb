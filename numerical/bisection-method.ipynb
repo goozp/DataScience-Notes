{
 "cells": [
  {
   "cell_type": "markdown",
   "metadata": {},
   "source": [
    "# The Bisection Method (二分法)\n",
    "\n",
    "对于区间 $[a，b]$ 上**连续不断**且 $f(a) \\cdot f(b)<0$ 的函数 $y=f(x)$，通过不断地把函数$f(x)$ 的零点所在的区间一分为二，使区间的两个端点逐步逼近零点，进而得到零点近似值的方法叫二分法。"
   ]
  },
  {
   "cell_type": "markdown",
   "metadata": {},
   "source": [
    "## 算法\n",
    "\n",
    "在区间 $\\left[a, b\\right]$ 给定一个连续函数 $f$，求解 $f(x)=0$，其中 $f\\left(a\\right)$ 和 $f\\left(b\\right)$ 符号相反。\n",
    "\n",
    "- **INPUT** endpoints $a, b$; tolerance $T O L$; maximum number of iterations $N_{0}$\n",
    "\n",
    "- **OUTPUT** approximate solution $p$ or message of failure. \n",
    "\n",
    "- **Step 1** $\\quad$ Set $i=1$   \n",
    "    $F A=f(a)$\n",
    "\n",
    "- **Step 2** $\\quad$ While $i \\leq N_{0}$ do **Steps 3-6**\n",
    "\n",
    "    - **Step 3** $\\quad$ Set $p=a+(b-a) / 2 ; \\quad$ (Compute $p_{i}$.)    \n",
    "        $F P=f(p)$\n",
    "\n",
    "    - **Step 4** $\\quad$ If $FP=0$ or $(b-a)/2 < TOL$ then \n",
    "        **OUTPUT**$(p) ; \\quad$ (Procedure completed successfully.) \n",
    "        **STOP**.\n",
    "\n",
    "    - **Step 5** $\\quad$ Set $i=i+1$\n",
    "\n",
    "    - **Step 6** $\\quad$ If $FA \\cdot FP > 0$ then   \n",
    "        set $a=p$; (Compute $a_{i}, b_{i}$.)    \n",
    "        $FA=FP$   \n",
    "        else   \n",
    "        set $b=p$. (FA is unchanged.)\n",
    "\n",
    "- **Step 7** $\\quad$ **OUTPUT** ('Method failed after $N_{0}$ iterations, $N_{0}=', N_{0}$ );    \n",
    "    (The procedure was unsuccessful.)    \n",
    "    **STOP**."
   ]
  },
  {
   "cell_type": "markdown",
   "metadata": {},
   "source": [
    "## 示例：Python 二分法求一元方程"
   ]
  },
  {
   "cell_type": "markdown",
   "metadata": {},
   "source": [
    "二分法求 $x^{3}-2 x-5=0$ 在 $[2，3]$ 之间的根"
   ]
  },
  {
   "cell_type": "code",
   "execution_count": 1,
   "metadata": {},
   "outputs": [],
   "source": [
    "def SqrtBisection(equation, a, b, N, tol=1e-4):\n",
    "    \"\"\"Finding the Roots of a Univariate Equation by The Bisection Method \n",
    "    \n",
    "    Args:\n",
    "        equation: the equation that need to find the root\n",
    "        a: endpoints a\n",
    "        b: endpoints b \n",
    "        N: maximum number of iterations\n",
    "        tol: tolerance\n",
    "        \n",
    "    Returns:\n",
    "        i: iterations i\n",
    "        res: approximate solution p\n",
    "    \n",
    "    \"\"\"\n",
    "    i = 1\n",
    "    xp = {}\n",
    "    FA = equation(a)\n",
    "    while i <= N:   \n",
    "        p = a + (b-a)/2\n",
    "        FP = equation(p)\n",
    "        if FP==0 or (b-a)/2 < tol:\n",
    "            xp[i] = p\n",
    "            return p, xp\n",
    "        xp[i] = p\n",
    "        i += 1\n",
    "        if FA*FP > 0:\n",
    "            a = p\n",
    "        else:\n",
    "            b = p\n",
    "    return p, xp"
   ]
  },
  {
   "cell_type": "code",
   "execution_count": 2,
   "metadata": {},
   "outputs": [],
   "source": [
    "# 定义方程\n",
    "def fx(x):\n",
    "    f= pow(x,3) - 2*x - 5\n",
    "    return f"
   ]
  },
  {
   "cell_type": "code",
   "execution_count": 3,
   "metadata": {},
   "outputs": [
    {
     "name": "stdout",
     "output_type": "stream",
     "text": [
      "2.09454345703125\n",
      "Iterations 1, pn = 2.500000000, f(pn) = 5.625000000, Err_Re = 0.000000000 \n",
      "Iterations 2, pn = 2.250000000, f(pn) = 1.890625000, Err_Re = 0.111111111 \n",
      "Iterations 3, pn = 2.125000000, f(pn) = 0.345703125, Err_Re = 0.058823529 \n",
      "Iterations 4, pn = 2.062500000, f(pn) = -0.351318359, Err_Re = 0.030303030 \n",
      "Iterations 5, pn = 2.093750000, f(pn) = -0.008941650, Err_Re = 0.015151515 \n",
      "Iterations 6, pn = 2.109375000, f(pn) = 0.166835785, Err_Re = 0.007462687 \n",
      "Iterations 7, pn = 2.101562500, f(pn) = 0.078562260, Err_Re = 0.003717472 \n",
      "Iterations 8, pn = 2.097656250, f(pn) = 0.034714282, Err_Re = 0.001862197 \n",
      "Iterations 9, pn = 2.095703125, f(pn) = 0.012862332, Err_Re = 0.000931966 \n",
      "Iterations 10, pn = 2.094726562, f(pn) = 0.001954348, Err_Re = 0.000466200 \n",
      "Iterations 11, pn = 2.094238281, f(pn) = -0.003495149, Err_Re = 0.000233155 \n",
      "Iterations 12, pn = 2.094482422, f(pn) = -0.000770775, Err_Re = 0.000116577 \n",
      "Iterations 13, pn = 2.094604492, f(pn) = 0.000591693, Err_Re = 0.000058282 \n",
      "Iterations 14, pn = 2.094543457, f(pn) = -0.000089565, Err_Re = 0.000029140 \n"
     ]
    }
   ],
   "source": [
    "re, xp = SqrtBisection(fx, 2, 3, 100)\n",
    "print(re)\n",
    "\n",
    "for key in xp:\n",
    "    err_re = 0 if key == 1 else abs(xp[key]-xp[key-1])/abs(min(xp[key], xp[key-1]))\n",
    "    print('Iterations %d, pn = %0.9f, f(pn) = %0.9f, Err_Re = %0.9f ' % (key, xp[key], fx(xp[key]), err_re))"
   ]
  },
  {
   "cell_type": "markdown",
   "metadata": {},
   "source": [
    "### 验证"
   ]
  },
  {
   "cell_type": "code",
   "execution_count": 4,
   "metadata": {},
   "outputs": [
    {
     "name": "stdout",
     "output_type": "stream",
     "text": [
      "-8.956467604548379e-05\n"
     ]
    }
   ],
   "source": [
    "fre = fx(re)\n",
    "print(fre)"
   ]
  },
  {
   "cell_type": "code",
   "execution_count": 5,
   "metadata": {},
   "outputs": [
    {
     "data": {
      "text/plain": [
       "Text(0.5, 1.0, 'Bisection Method')"
      ]
     },
     "execution_count": 5,
     "metadata": {},
     "output_type": "execute_result"
    },
    {
     "data": {
      "image/png": "[encoded data removed]",
      "text/plain": [
       "<Figure size 720x432 with 1 Axes>"
      ]
     },
     "metadata": {
      "needs_background": "light"
     },
     "output_type": "display_data"
    }
   ],
   "source": [
    "import numpy as np\n",
    "import matplotlib.pyplot as plt\n",
    "%matplotlib inline\n",
    "\n",
    "x = np.linspace(-5, 5, 1000)\n",
    "y = fx(x)\n",
    "plt.figure(figsize=(10, 6))\n",
    "plt.plot(x, y, linewidth=2)\n",
    "#截取x的某一部分\n",
    "plt.xlim((-5,5))\n",
    "\n",
    "ax = plt.gca() # 获取当前轴\n",
    "# 去掉轴上边和右边\n",
    "ax.spines['right'].set_color('None')\n",
    "ax.spines['top'].set_color('None')\n",
    "# 移动下边和左边\n",
    "ax.xaxis.set_ticks_position('bottom')\n",
    "ax.yaxis.set_ticks_position('left')\n",
    "ax.spines['bottom'].set_position(('data', 0))\n",
    "ax.spines['left'].set_position(('data', 0))\n",
    "\n",
    "# 把 root 画出来\n",
    "ax.plot(re, fx(re), 'r*', markersize=14)\n",
    "# root 点做一个注释\n",
    "ax.annotate(\"Root approximately at %f\" % re,\n",
    "    fontsize=14, family=\"serif\",\n",
    "    xy=(re, fre), xycoords='data',\n",
    "    xytext=(-110, 80), textcoords='offset points',\n",
    "    arrowprops=dict(arrowstyle=\"->\", connectionstyle=\"arc3, rad=-.5\"))\n",
    "\n",
    "ax.set_xlabel(r'$x$', fontsize=18)\n",
    "ax.set_ylabel(r'$f(x)$', fontsize=18)\n",
    "ax.set_title(\"Bisection Method\")"
   ]
  }
 ],
 "metadata": {
  "kernelspec": {
   "display_name": "Python 3",
   "language": "python",
   "name": "python3"
  },
  "language_info": {
   "codemirror_mode": {
    "name": "ipython",
    "version": 3
   },
   "file_extension": ".py",
   "mimetype": "text/x-python",
   "name": "python",
   "nbconvert_exporter": "python",
   "pygments_lexer": "ipython3",
   "version": "3.7.4"
  }
 },
 "nbformat": 4,
 "nbformat_minor": 4
}
