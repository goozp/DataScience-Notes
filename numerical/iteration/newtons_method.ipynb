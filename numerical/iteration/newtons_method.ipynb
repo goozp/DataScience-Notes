{
 "cells": [
  {
   "cell_type": "markdown",
   "metadata": {},
   "source": [
    "# Newton’s Method and Its Extensions 牛顿法及其拓展\n",
    "\n",
    "同样基于求解一元方程。"
   ]
  },
  {
   "cell_type": "markdown",
   "metadata": {},
   "source": [
    "## 1 - Newton’s Method (牛顿法)"
   ]
  },
  {
   "cell_type": "markdown",
   "metadata": {},
   "source": [
    "从一个初始化近似值 $p_{0}$ 开始，通过以下方式产生序列 $\\left\\{p_{n}\\right\\}_{n=0}^{\\infty}$：\n",
    "$$\n",
    "p_{n}=p_{n-1}-\\frac{f\\left(p_{n-1}\\right)}{f^{\\prime}\\left(p_{n-1}\\right)}, \\quad \\text { for } n \\geq 1\n",
    "$$"
   ]
  },
  {
   "cell_type": "markdown",
   "metadata": {},
   "source": [
    "### 1.1 - 算法\n",
    "\n",
    "给定一个初始近似值 $p_{0}$，求解 $f(x)=0$\n",
    "\n",
    "- **INPUT** initial approximation $p_{0} ;$ tolerance $T O L$; maximum number of iterations $N_{0}$.\n",
    "\n",
    "- **OUTPUT** approximate solution $p$ or message of failure.\n",
    "\n",
    "- **Step 1** $\\quad$ Set $i=1$\n",
    "\n",
    "- **Step 2** $\\quad$ While $i \\leq N_{0}$ do **Steps 3-6**\n",
    "\n",
    "    - **Step 3** $\\quad$ Set $\\left.p=p_{0}-f\\left(p_{0}\\right) / f^{\\prime}\\left(p_{0}\\right) . \\quad \\text { (Compute } p_{i} .\\right)$\n",
    "\n",
    "    - **Step 4** $\\quad$ If $\\left|p-p_{0}\\right|<$ TOL then    \n",
    "        **OUTPUT** $(p)$; (The procedure was successful.)    \n",
    "        **STOP**.\n",
    "\n",
    "    - **Step 5** $\\quad$  Set $i=i+1$\n",
    "\n",
    "    - **Step 6** $\\quad$  set $p_{0}=p . \\quad\\left(\\text { Update } p_{0} .\\right)$\n",
    "\n",
    "- **Step 7** $\\quad$  **OUTPUT** ('The method failed after $N_{0}$ iterations, $N_{0}=', N_{0}$ ); (The procedure was unsuccessful.)    \n",
    " **STOP**."
   ]
  },
  {
   "cell_type": "markdown",
   "metadata": {},
   "source": [
    "### 1.2 - 收敛规则\n",
    "\n",
    "二分法中用于收敛的不等式规则同样适用于牛顿法。\n",
    "\n",
    "选择一个 tolerance $\\varepsilon>0$，构造 $p_{1}, \\ldots p_{N}$ 直到：\n",
    "$$\n",
    "\\left|p_{N}-p_{N-1}\\right|<\\varepsilon\n",
    "$$\n",
    "\n",
    "$$\n",
    "\\frac{\\left|p_{N}-p_{N-1}\\right|}{\\left|p_{N}\\right|}<\\varepsilon, \\quad p_{N} \\neq 0\n",
    "$$\n",
    "\n",
    "或者\n",
    "$$\n",
    "\\left|f\\left(p_{N}\\right)\\right|<\\varepsilon\n",
    "$$"
   ]
  },
  {
   "cell_type": "markdown",
   "metadata": {},
   "source": [
    "### 1.3 - Python 实现"
   ]
  },
  {
   "cell_type": "code",
   "execution_count": 1,
   "metadata": {},
   "outputs": [],
   "source": [
    "import numpy as np\n",
    "import sympy as sp\n",
    "\n",
    "def SqrtNewon(f, df, p0, tol=1e-10, N=100):\n",
    "    \"\"\"\n",
    "    Newton's Method\n",
    "    \n",
    "    Args:\n",
    "        f: equation\n",
    "        df：dirivative of the equation\n",
    "        p0: initial approximation\n",
    "        tol: tolerance\n",
    "        N: maximum number of iterations\n",
    "        \n",
    "    Returns:\n",
    "        p: solution p\n",
    "        xp: solution list\n",
    "    \"\"\"\n",
    "    i = 1\n",
    "    xp = [p0] # use to save solution list\n",
    "   \n",
    "    while i <= N:\n",
    "        p = p0 - f.subs(x, p0)/df.subs(x, p0)\n",
    "        if abs(p-p0) < tol:\n",
    "            return p, xp\n",
    "        i += 1\n",
    "        p0 = p\n",
    "        xp.append(p0)\n",
    "    return None, xp"
   ]
  },
  {
   "cell_type": "markdown",
   "metadata": {},
   "source": [
    "### 1.4 - 求解方程 $f(x)=\\cos x-x=0$"
   ]
  },
  {
   "cell_type": "code",
   "execution_count": 2,
   "metadata": {},
   "outputs": [
    {
     "name": "stdout",
     "output_type": "stream",
     "text": [
      "n = 0, pn = 0.7853981634\n",
      "n = 1, pn = 0.7395361335\n",
      "n = 2, pn = 0.7390851781\n",
      "n = 3, pn = 0.7390851332\n"
     ]
    }
   ],
   "source": [
    "x = sp.symbols('x')\n",
    "# f(x)\n",
    "fx = sp.cos(x)-x\n",
    "# f'(x)\n",
    "df = sp.diff(fx, x)\n",
    "\n",
    "p0 = float(sp.pi/4)\n",
    "p, pnlist = SqrtNewon(fx, df, p0)\n",
    "\n",
    "n = 0\n",
    "while n < len(pnlist):\n",
    "    print(\"n = %d, pn = %.10f\" % (n, pnlist[n]))\n",
    "    n += 1"
   ]
  },
  {
   "cell_type": "markdown",
   "metadata": {},
   "source": [
    "## 2 - Secant Method (割线法)\n",
    "\n",
    "牛顿法有一个缺点就是，需要知道每一步导数的近似值。频繁计算 $f^{\\prime}(x)$ 比计算 $f(x)$ 更复杂。\n",
    "\n",
    "根据定义：\n",
    "$$f^{\\prime}\\left(p_{n-1}\\right)=\\lim _{x \\rightarrow p_{n-1}} \\frac{f(x)-f\\left(p_{n-1}\\right)}{x-p_{n-1}}$$\n",
    "\n",
    "如果 $p_{n-2}$ 接近 $p_{n-1}$， 则有：\n",
    "$$\n",
    "f^{\\prime}\\left(p_{n-1}\\right) \\approx \\frac{f\\left(p_{n-2}\\right)-f\\left(p_{n-1}\\right)}{p_{n-2}-p_{n-1}}=\\frac{f\\left(p_{n-1}\\right)-f\\left(p_{n-2}\\right)}{p_{n-1}-p_{n-2}}\n",
    "$$\n",
    "\n",
    "根据牛顿法，得到：\n",
    "$$p_{n}=p_{n-1}-\\frac{f\\left(p_{n-1}\\right)\\left(p_{n-1}-p_{n-2}\\right)}{f\\left(p_{n-1}\\right)-f\\left(p_{n-2}\\right)}$$\n",
    "\n",
    "这个就是割线法。"
   ]
  },
  {
   "cell_type": "markdown",
   "metadata": {},
   "source": [
    "### 2.1 - 算法\n",
    "\n",
    "给定初始近似值 $p_{0}$ 和 $p_{1}$，求解 $f(x)=0$\n",
    "\n",
    "- **INPUT** initial approximation $p_{0}$, $p_{1}$; tolerance $TOL$; maximum number of iterations $N_{0}$.\n",
    "\n",
    "- **OUTPUT** approximate solution $p$ or message of failure.\n",
    "\n",
    "- **Step 1** $\\quad$ Set $i=2$;   \n",
    "    $q_{0}=f\\left(p_{0}\\right)$;   \n",
    "    $q_{1}=f\\left(p_{1}\\right)$\n",
    "\n",
    "- **Step 2** $\\quad$ While $i \\leq N_{0}$ do **Steps 3-6**\n",
    "\n",
    "    - **Step 3** $\\quad$ Set $\\left.p=p_{1}-q_{1}\\left(p_{1}-p_{0}\\right) /\\left(q_{1}-q_{0}\\right) . \\quad \\text { (Compute } p_{i} .\\right)$   \n",
    "\n",
    "    - **Step 4** $\\quad$ If $\\left|p-p_{1}\\right|<$ TOL then    \n",
    "        **OUTPUT** $(p)$; (The procedure was successful.)    \n",
    "        **STOP**.\n",
    "\n",
    "    - **Step 5** $\\quad$  Set $i=i+1$\n",
    "\n",
    "    - **Step 6** $\\quad$ set $\\left.p_{0}=p_{1} ; \\quad \\text { (Update } p_{0}, q_{0}, p_{1}, q_{1} .\\right)$   \n",
    "    $q_{0}=q_{1}$;    \n",
    "    $p_{1}=p$;   \n",
    "    $q_{1}=f(p)$\n",
    "\n",
    "- **Step 7** $\\quad$  **OUTPUT** ('The method failed after $N_{0}$ iterations, $N_{0}=', N_{0}$ ); (The procedure was unsuccessful.)    \n",
    " **STOP**."
   ]
  },
  {
   "cell_type": "markdown",
   "metadata": {},
   "source": [
    "### 2.2 - Python 实现"
   ]
  },
  {
   "cell_type": "code",
   "execution_count": 3,
   "metadata": {},
   "outputs": [],
   "source": [
    "def SqrtSecant(f, p0, p1, tol=1e-10, N=100):\n",
    "    \"\"\"\n",
    "    Secant Method\n",
    "    \n",
    "    Args:\n",
    "        f: equation\n",
    "        p0: initial approximation p0\n",
    "        p1: initial approximation p1\n",
    "        tol: tolerance\n",
    "        N: maximum number of iterations\n",
    "        \n",
    "    Returns:\n",
    "        p: solution p\n",
    "        xp: solution list\n",
    "    \"\"\"\n",
    "    i = 2\n",
    "    xp = [p0, p1] # use to save solution list\n",
    "    q0 = f(p0)\n",
    "    q1 = f(p1)\n",
    "    while i <= N:\n",
    "        p = p1 - q1*(p1 - p0)/(q1 - q0)\n",
    "        if abs(p-p1) < tol:\n",
    "            return p, xp\n",
    "        i += 1\n",
    "        p0 = p1\n",
    "        q0 = q1\n",
    "        p1 = p\n",
    "        q1 = f(p)\n",
    "        xp.append(p1)\n",
    "    return None, xp"
   ]
  },
  {
   "cell_type": "markdown",
   "metadata": {},
   "source": [
    "### 2.3 - 求解方程 $f(x)=\\cos x-x=0$"
   ]
  },
  {
   "cell_type": "code",
   "execution_count": 4,
   "metadata": {},
   "outputs": [
    {
     "name": "stdout",
     "output_type": "stream",
     "text": [
      "n = 0, pn = 0.5000000000\n",
      "n = 1, pn = 0.7853981634\n",
      "n = 2, pn = 0.7363841388\n",
      "n = 3, pn = 0.7390581392\n",
      "n = 4, pn = 0.7390851493\n",
      "n = 5, pn = 0.7390851332\n"
     ]
    }
   ],
   "source": [
    "# f(x)\n",
    "fx = lambda x : sp.cos(x)-x\n",
    "\n",
    "p0 = 0.5\n",
    "p1 = float(sp.pi/4)\n",
    "p, pnlist = SqrtSecant(fx, p0, p1)\n",
    "\n",
    "n = 0\n",
    "while n < len(pnlist):\n",
    "    print(\"n = %d, pn = %.10f\" % (n, pnlist[n]))\n",
    "    n += 1"
   ]
  },
  {
   "cell_type": "markdown",
   "metadata": {},
   "source": [
    "## 3 - The Method of False Position (试位法)\n",
    "\n",
    "试错法和切割法一样生成近似值，但是包含一项测试来确保根始终在范围内。"
   ]
  },
  {
   "cell_type": "markdown",
   "metadata": {},
   "source": [
    "### 3.1 - 算法\n",
    "\n",
    "在区间 $\\left[p_{0}, p_{1}\\right]$ 给定一个连续函数 $f$，求解 $f(x)=0$，其中 $f\\left(p_{0}\\right)$ 和 $f\\left(p_{1}\\right)$ 符号相反。\n",
    "\n",
    "- **INPUT** initial approximation $p_{0}$, $p_{1}$; tolerance $TOL$; maximum number of iterations $N_{0}$.\n",
    "\n",
    "- **OUTPUT** approximate solution $p$ or message of failure.\n",
    "\n",
    "- **Step 1** $\\quad$ Set $i=2$;   \n",
    "    $q_{0}=f\\left(p_{0}\\right)$;   \n",
    "    $q_{1}=f\\left(p_{1}\\right)$\n",
    "\n",
    "- **Step 2** $\\quad$ While $i \\leq N_{0}$ do **Steps 3-6**\n",
    "\n",
    "    - **Step 3** $\\quad$ Set $\\left.p=p_{1}-q_{1}\\left(p_{1}-p_{0}\\right) /\\left(q_{1}-q_{0}\\right) . \\quad \\text { (Compute } p_{i} .\\right)$   \n",
    "\n",
    "    - **Step 4** $\\quad$ If $\\left|p-p_{1}\\right|<$ TOL then    \n",
    "        **OUTPUT** $(p)$; (The procedure was successful.)    \n",
    "        **STOP**.\n",
    "\n",
    "    - **Step 5** $\\quad$  Set $i=i+1$   \n",
    "        $q=f(p)$\n",
    "\n",
    "    - **Step 6** $\\quad$ If $q \\cdot q_{1}<0$ then \n",
    "        set $p_{0}=p_{1}$;   \n",
    "        $q_{0}=q_{1}$\n",
    "\n",
    "    - **Step 7** $\\quad$ Set $p_{1}=p$   \n",
    "        $q_{1}=q$ \n",
    "- **Step 8** **OUTPUT** ('Method failed after $N_{0}$ iterations, $N_{0}$ =',  $N_{0}$; (The procedure was unsuccessful.)    \n",
    "    **STOP**"
   ]
  },
  {
   "cell_type": "markdown",
   "metadata": {},
   "source": [
    "### 3.2 - Python 实现"
   ]
  },
  {
   "cell_type": "code",
   "execution_count": 5,
   "metadata": {},
   "outputs": [],
   "source": [
    "def SqrtFalsePosition(f, p0, p1, tol=1e-10, N=100):\n",
    "    \"\"\"\n",
    "    False Position Method\n",
    "    \n",
    "    Args:\n",
    "        f: equation\n",
    "        p0: initial approximation p0\n",
    "        p1: initial approximation p1\n",
    "        tol: tolerance\n",
    "        N: maximum number of iterations\n",
    "        \n",
    "    Returns:\n",
    "        p: solution p\n",
    "        xp: solution list\n",
    "    \"\"\"\n",
    "    i = 2\n",
    "    xp = [p0, p1] # use to save solution list\n",
    "    q0 = f(p0)\n",
    "    q1 = f(p1)\n",
    "    while i <= N:\n",
    "        p = p1 - q1*(p1 - p0)/(q1 - q0)\n",
    "        if abs(p-p1) < tol:\n",
    "            return p, xp\n",
    "        i += 1\n",
    "        q = f(p)\n",
    "        if q*q1 < 0:\n",
    "            p0 = p1\n",
    "            q0 = q1\n",
    "        p1 = p\n",
    "        q1 = q\n",
    "        xp.append(p1)\n",
    "    return None, xp"
   ]
  },
  {
   "cell_type": "markdown",
   "metadata": {},
   "source": [
    "### 3.3 求解方程 $f(x)=\\cos x-x=0$"
   ]
  },
  {
   "cell_type": "code",
   "execution_count": 6,
   "metadata": {},
   "outputs": [
    {
     "name": "stdout",
     "output_type": "stream",
     "text": [
      "n = 0, pn = 0.5000000000\n",
      "n = 1, pn = 0.7853981634\n",
      "n = 2, pn = 0.7363841388\n",
      "n = 3, pn = 0.7390581392\n",
      "n = 4, pn = 0.7390851493\n",
      "n = 5, pn = 0.7390851332\n"
     ]
    }
   ],
   "source": [
    "# f(x)\n",
    "fx = lambda x : sp.cos(x)-x\n",
    "\n",
    "p0 = 0.5\n",
    "p1 = float(sp.pi/4)\n",
    "p, pnlist = SqrtSecant(fx, p0, p1)\n",
    "\n",
    "n = 0\n",
    "while n < len(pnlist):\n",
    "    print(\"n = %d, pn = %.10f\" % (n, pnlist[n]))\n",
    "    n += 1"
   ]
  }
 ],
 "metadata": {
  "kernelspec": {
   "display_name": "Python 3",
   "language": "python",
   "name": "python3"
  },
  "language_info": {
   "codemirror_mode": {
    "name": "ipython",
    "version": 3
   },
   "file_extension": ".py",
   "mimetype": "text/x-python",
   "name": "python",
   "nbconvert_exporter": "python",
   "pygments_lexer": "ipython3",
   "version": "3.7.4"
  }
 },
 "nbformat": 4,
 "nbformat_minor": 4
}
