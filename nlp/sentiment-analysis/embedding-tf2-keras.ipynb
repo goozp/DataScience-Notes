{
 "cells": [
  {
   "cell_type": "markdown",
   "metadata": {},
   "source": [
    "# 使用 Word Embedding 完成 IMDB 电影评论情感预测任务\n",
    "\n",
    "TensorFlow 2.0 + Keras Embedding Layer 完成 IMDB 电影评论情感预测任务。特征单词数 10000，评论长度只考虑 20。"
   ]
  },
  {
   "cell_type": "markdown",
   "metadata": {},
   "source": [
    "在 Keras 中，我们训练的 Word Embedding 中的权重 E，相当于 Embedding Layer 层的权重，同样可以用反向传播训练处这个权重。 \n",
    "\n",
    "即是：**单词索引 -> Embedding 层 -> 对应的词向量**\n",
    "\n",
    "### word2vec 等方式学习到的 Word Embedding 和 NN（本实例）学习到的 Word Embedding 的区别\n",
    "\n",
    "- word2vec 是无监督的学习方式，利用上下文环境来学习词的嵌入表示，因此可以学到相关词\n",
    "- 神经网络的嵌入层权重的更新是基于标签的信息进行学习，为了达到较高的监督学习的效果，它本身也可能会学到相关词。NN Embedding Layer 是随机初始化权重的。\n",
    "\n",
    "NN 的 Embedding Layer 可用于加载训练好的词嵌入模型。例如：先用 word2vec 学到词向量，然后作为 NN 的 Embedding Layer 的初始权重，而不是用随机的初始化权重。"
   ]
  },
  {
   "cell_type": "code",
   "execution_count": 1,
   "metadata": {},
   "outputs": [
    {
     "data": {
      "text/plain": [
       "'2.0.0'"
      ]
     },
     "execution_count": 1,
     "metadata": {},
     "output_type": "execute_result"
    }
   ],
   "source": [
    "import numpy as np\n",
    "import tensorflow as tf\n",
    "\n",
    "tf.__version__"
   ]
  },
  {
   "cell_type": "markdown",
   "metadata": {},
   "source": [
    "## 通过 keras.datasets 加载数据"
   ]
  },
  {
   "cell_type": "code",
   "execution_count": 2,
   "metadata": {},
   "outputs": [],
   "source": [
    "from tensorflow.keras.datasets import imdb\n",
    "from tensorflow.keras import preprocessing\n",
    "\n",
    "# 作为特征的单词个数\n",
    "max_features = 10000\n",
    "# 评论长度限制为 20，在这么多单词后截断文本\n",
    "maxlen = 20\n",
    "\n",
    "# 加载数据为整数列表\n",
    "(x_train, y_train), (x_test, y_test) = imdb.load_data(num_words=max_features)\n",
    "\n",
    "# 将整数列表转化为形状为 `(samples, maxlen)` 的二维整数张亮\n",
    "x_train = preprocessing.sequence.pad_sequences(x_train, maxlen=maxlen)\n",
    "x_test = preprocessing.sequence.pad_sequences(x_test, maxlen=maxlen)"
   ]
  },
  {
   "cell_type": "markdown",
   "metadata": {},
   "source": [
    "## 定义模型"
   ]
  },
  {
   "cell_type": "code",
   "execution_count": 3,
   "metadata": {},
   "outputs": [],
   "source": [
    "model = tf.keras.Sequential()\n",
    "\n",
    "# Embedding 层，指定 Embedding 层的最大输入长度，以便后面将嵌入输入展平。\n",
    "model.add(tf.keras.layers.Embedding(10000, 8, input_length=maxlen))\n",
    "# Embedding 层之后激活的形状为 `(samples, maxlen, 8)`.\n",
    "\n",
    "# 3 维嵌入张量展平为 2 维张量 `(samples, maxlen * 8)`\n",
    "model.add(tf.keras.layers.Flatten())\n",
    "\n",
    "# 分类器\n",
    "model.add(tf.keras.layers.Dense(1, activation='sigmoid'))\n",
    "\n",
    "model.compile(optimizer='rmsprop', loss='binary_crossentropy', metrics=['acc'])"
   ]
  },
  {
   "cell_type": "code",
   "execution_count": 4,
   "metadata": {},
   "outputs": [
    {
     "name": "stdout",
     "output_type": "stream",
     "text": [
      "Model: \"sequential\"\n",
      "_________________________________________________________________\n",
      "Layer (type)                 Output Shape              Param #   \n",
      "=================================================================\n",
      "embedding (Embedding)        (None, 20, 8)             80000     \n",
      "_________________________________________________________________\n",
      "flatten (Flatten)            (None, 160)               0         \n",
      "_________________________________________________________________\n",
      "dense (Dense)                (None, 1)                 161       \n",
      "=================================================================\n",
      "Total params: 80,161\n",
      "Trainable params: 80,161\n",
      "Non-trainable params: 0\n",
      "_________________________________________________________________\n"
     ]
    }
   ],
   "source": [
    "model.summary()"
   ]
  },
  {
   "cell_type": "markdown",
   "metadata": {},
   "source": [
    "## 模型训练"
   ]
  },
  {
   "cell_type": "code",
   "execution_count": 5,
   "metadata": {},
   "outputs": [
    {
     "name": "stdout",
     "output_type": "stream",
     "text": [
      "Train on 20000 samples, validate on 5000 samples\n",
      "Epoch 1/10\n",
      "20000/20000 [==============================] - 2s 80us/sample - loss: 0.6677 - acc: 0.6295 - val_loss: 0.6157 - val_acc: 0.6990\n",
      "Epoch 2/10\n",
      "20000/20000 [==============================] - 1s 45us/sample - loss: 0.5394 - acc: 0.7502 - val_loss: 0.5254 - val_acc: 0.7308\n",
      "Epoch 3/10\n",
      "20000/20000 [==============================] - 1s 52us/sample - loss: 0.4601 - acc: 0.7893 - val_loss: 0.4990 - val_acc: 0.7476\n",
      "Epoch 4/10\n",
      "20000/20000 [==============================] - 1s 53us/sample - loss: 0.4213 - acc: 0.8070 - val_loss: 0.4919 - val_acc: 0.7536\n",
      "Epoch 5/10\n",
      "20000/20000 [==============================] - 1s 56us/sample - loss: 0.3950 - acc: 0.8233 - val_loss: 0.4922 - val_acc: 0.7562\n",
      "Epoch 6/10\n",
      "20000/20000 [==============================] - 1s 55us/sample - loss: 0.3746 - acc: 0.8339 - val_loss: 0.4959 - val_acc: 0.7524\n",
      "Epoch 7/10\n",
      "20000/20000 [==============================] - 1s 59us/sample - loss: 0.3553 - acc: 0.8456 - val_loss: 0.5011 - val_acc: 0.7556\n",
      "Epoch 8/10\n",
      "20000/20000 [==============================] - 1s 60us/sample - loss: 0.3384 - acc: 0.8547 - val_loss: 0.5076 - val_acc: 0.7560\n",
      "Epoch 9/10\n",
      "20000/20000 [==============================] - 1s 55us/sample - loss: 0.3223 - acc: 0.8638 - val_loss: 0.5134 - val_acc: 0.7550\n",
      "Epoch 10/10\n",
      "20000/20000 [==============================] - 1s 53us/sample - loss: 0.3062 - acc: 0.8740 - val_loss: 0.5218 - val_acc: 0.7538\n"
     ]
    }
   ],
   "source": [
    "history = model.fit(x_train, y_train,\n",
    "                    epochs=10,\n",
    "                    batch_size=32,\n",
    "                    validation_split=0.2)"
   ]
  },
  {
   "cell_type": "code",
   "execution_count": 7,
   "metadata": {},
   "outputs": [
    {
     "data": {
      "image/png": "[encoded data removed]",
      "text/plain": [
       "<Figure size 432x288 with 1 Axes>"
      ]
     },
     "metadata": {
      "needs_background": "light"
     },
     "output_type": "display_data"
    },
    {
     "data": {
      "image/png": "[encoded data removed]",
      "text/plain": [
       "<Figure size 432x288 with 1 Axes>"
      ]
     },
     "metadata": {
      "needs_background": "light"
     },
     "output_type": "display_data"
    }
   ],
   "source": [
    "import matplotlib.pyplot as plt\n",
    "\n",
    "acc = history.history['acc']\n",
    "val_acc = history.history['val_acc']\n",
    "loss = history.history['loss']\n",
    "val_loss = history.history['val_loss']\n",
    "\n",
    "epochs = range(1, len(acc) + 1)\n",
    "\n",
    "plt.plot(epochs, acc, 'bo', label='Training acc')\n",
    "plt.plot(epochs, val_acc, 'b', label='Validation acc')\n",
    "plt.title('Training and validation accuracy')\n",
    "plt.legend()\n",
    "\n",
    "plt.figure()\n",
    "\n",
    "plt.plot(epochs, loss, 'bo', label='Training loss')\n",
    "plt.plot(epochs, val_loss, 'b', label='Validation loss')\n",
    "plt.title('Training and validation loss')\n",
    "plt.legend()\n",
    "\n",
    "plt.show()"
   ]
  }
 ],
 "metadata": {
  "kernelspec": {
   "display_name": "Python [conda env:tf2]",
   "language": "python",
   "name": "conda-env-tf2-py"
  },
  "language_info": {
   "codemirror_mode": {
    "name": "ipython",
    "version": 3
   },
   "file_extension": ".py",
   "mimetype": "text/x-python",
   "name": "python",
   "nbconvert_exporter": "python",
   "pygments_lexer": "ipython3",
   "version": "3.7.5"
  }
 },
 "nbformat": 4,
 "nbformat_minor": 2
}
